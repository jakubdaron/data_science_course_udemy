{
  "nbformat": 4,
  "nbformat_minor": 0,
  "metadata": {
    "colab": {
      "provenance": [],
      "authorship_tag": "ABX9TyPxfrxh6u48mjyzn+I+FHz6",
      "include_colab_link": true
    },
    "kernelspec": {
      "name": "python3",
      "display_name": "Python 3"
    },
    "language_info": {
      "name": "python"
    }
  },
  "cells": [
    {
      "cell_type": "markdown",
      "metadata": {
        "id": "view-in-github",
        "colab_type": "text"
      },
      "source": [
        "<a href=\"https://colab.research.google.com/github/jakubdaron/data_science_course_udemy/blob/main/Uczenie_maszynowe/05_regresja_wielomianowa.ipynb\" target=\"_parent\"><img src=\"https://colab.research.google.com/assets/colab-badge.svg\" alt=\"Open In Colab\"/></a>"
      ]
    },
    {
      "cell_type": "code",
      "execution_count": 1,
      "metadata": {
        "id": "indduArODzhH"
      },
      "outputs": [],
      "source": [
        "import sklearn"
      ]
    },
    {
      "cell_type": "markdown",
      "source": [
        "Poltmonial Regression - Regresja Wielomianowa"
      ],
      "metadata": {
        "id": "8RpS1MI5U1BE"
      }
    },
    {
      "cell_type": "code",
      "source": [],
      "metadata": {
        "id": "kM1Hqe2bU6q7"
      },
      "execution_count": null,
      "outputs": []
    }
  ]
}