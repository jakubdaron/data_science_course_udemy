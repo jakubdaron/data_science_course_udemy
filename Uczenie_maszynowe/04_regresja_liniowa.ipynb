{
  "nbformat": 4,
  "nbformat_minor": 0,
  "metadata": {
    "colab": {
      "provenance": [],
      "authorship_tag": "ABX9TyPum3Ust1ugzIu+tMcSiNY1",
      "include_colab_link": true
    },
    "kernelspec": {
      "name": "python3",
      "display_name": "Python 3"
    },
    "language_info": {
      "name": "python"
    }
  },
  "cells": [
    {
      "cell_type": "markdown",
      "metadata": {
        "id": "view-in-github",
        "colab_type": "text"
      },
      "source": [
        "<a href=\"https://colab.research.google.com/github/jakubdaron/data_science_course_udemy/blob/main/Uczenie_maszynowe/04_regresja_liniowa.ipynb\" target=\"_parent\"><img src=\"https://colab.research.google.com/assets/colab-badge.svg\" alt=\"Open In Colab\"/></a>"
      ]
    },
    {
      "cell_type": "markdown",
      "source": [
        "Import bibliotek"
      ],
      "metadata": {
        "id": "m0lp5aqOEEBt"
      }
    },
    {
      "cell_type": "code",
      "execution_count": 1,
      "metadata": {
        "id": "indduArODzhH"
      },
      "outputs": [],
      "source": [
        "import numpy as np\n",
        "import pandas as pd\n",
        "import plotly.express as px\n",
        "import plotly.graph_objects as go"
      ]
    },
    {
      "cell_type": "code",
      "source": [
        "y_true = 100 + 20 * np.random.randn(50)\n",
        "y_true"
      ],
      "metadata": {
        "colab": {
          "base_uri": "https://localhost:8080/"
        },
        "id": "0EX_NP5eEZBd",
        "outputId": "a8b02b95-089e-40c7-8b20-d32ca0c5621a"
      },
      "execution_count": 2,
      "outputs": [
        {
          "output_type": "execute_result",
          "data": {
            "text/plain": [
              "array([104.45739184,  89.06714763, 131.09409667,  88.49611907,\n",
              "       132.55975002,  80.15012226,  87.30475906,  85.49954048,\n",
              "        90.74266565, 124.67039799,  58.65407447, 112.49304148,\n",
              "       101.60982729,  58.00281245, 109.0956512 ,  56.04276023,\n",
              "       100.24011054,  91.25425938,  90.91387522,  84.79682812,\n",
              "        86.06527496, 127.3331613 , 120.1188337 ,  95.86591057,\n",
              "        73.79283954,  95.86273167, 100.46025084, 136.77560638,\n",
              "        80.56438303, 119.37232279, 123.6214616 ,  91.93468806,\n",
              "       104.88495622, 119.16865623, 104.97704887, 115.623569  ,\n",
              "        93.13681363,  78.91452728,  92.42204816,  88.93100588,\n",
              "       114.6336044 , 138.60048452,  83.45820387, 116.97407375,\n",
              "        64.67819414, 104.2651132 , 121.27859864,  91.23658685,\n",
              "        99.34146474,  84.40869754])"
            ]
          },
          "metadata": {},
          "execution_count": 2
        }
      ]
    },
    {
      "cell_type": "code",
      "source": [
        "y_pred = y_true + 10 * np.random.randn(50)\n",
        "y_pred"
      ],
      "metadata": {
        "colab": {
          "base_uri": "https://localhost:8080/"
        },
        "id": "6hMnE8WxEoA9",
        "outputId": "7e4c561b-2542-4686-f6b7-da697e6ba8a5"
      },
      "execution_count": 3,
      "outputs": [
        {
          "output_type": "execute_result",
          "data": {
            "text/plain": [
              "array([ 97.50094832,  91.42657165, 130.96266272,  82.65669203,\n",
              "       155.23758514,  78.77052422,  81.38226832,  83.28267358,\n",
              "        85.75976784, 115.27064369,  49.80231396, 110.05099079,\n",
              "        84.93952926,  55.91741196, 115.51669892,  67.36727252,\n",
              "       101.26833171, 107.11430451,  80.92462065,  85.91495895,\n",
              "        83.06962904,  98.56691899, 115.47545159, 105.55871642,\n",
              "        66.07605482, 106.01400399,  94.40763388, 149.36028279,\n",
              "        70.42937991, 126.22563085,  95.56173328,  99.37666406,\n",
              "       120.73805987, 112.44958426,  99.17044504, 120.62859909,\n",
              "       103.64712461,  84.38529387, 100.7670916 ,  88.78035879,\n",
              "       116.41732478, 125.88802931,  67.44354152, 123.03576146,\n",
              "        68.5038125 ,  82.86310076, 126.52209408, 109.23638752,\n",
              "       102.73299208,  67.54978592])"
            ]
          },
          "metadata": {},
          "execution_count": 3
        }
      ]
    },
    {
      "cell_type": "code",
      "source": [
        "results = pd.DataFrame({'y_true': y_true, 'y_pred': y_pred})\n",
        "results.head()"
      ],
      "metadata": {
        "colab": {
          "base_uri": "https://localhost:8080/",
          "height": 206
        },
        "id": "SBQzzKJPE3DF",
        "outputId": "574b4994-9f68-4603-e2ba-e06a30835904"
      },
      "execution_count": 4,
      "outputs": [
        {
          "output_type": "execute_result",
          "data": {
            "text/plain": [
              "       y_true      y_pred\n",
              "0  104.457392   97.500948\n",
              "1   89.067148   91.426572\n",
              "2  131.094097  130.962663\n",
              "3   88.496119   82.656692\n",
              "4  132.559750  155.237585"
            ],
            "text/html": [
              "\n",
              "  <div id=\"df-d8abd4d6-dc3e-413b-a075-52c93eb363ca\" class=\"colab-df-container\">\n",
              "    <div>\n",
              "<style scoped>\n",
              "    .dataframe tbody tr th:only-of-type {\n",
              "        vertical-align: middle;\n",
              "    }\n",
              "\n",
              "    .dataframe tbody tr th {\n",
              "        vertical-align: top;\n",
              "    }\n",
              "\n",
              "    .dataframe thead th {\n",
              "        text-align: right;\n",
              "    }\n",
              "</style>\n",
              "<table border=\"1\" class=\"dataframe\">\n",
              "  <thead>\n",
              "    <tr style=\"text-align: right;\">\n",
              "      <th></th>\n",
              "      <th>y_true</th>\n",
              "      <th>y_pred</th>\n",
              "    </tr>\n",
              "  </thead>\n",
              "  <tbody>\n",
              "    <tr>\n",
              "      <th>0</th>\n",
              "      <td>104.457392</td>\n",
              "      <td>97.500948</td>\n",
              "    </tr>\n",
              "    <tr>\n",
              "      <th>1</th>\n",
              "      <td>89.067148</td>\n",
              "      <td>91.426572</td>\n",
              "    </tr>\n",
              "    <tr>\n",
              "      <th>2</th>\n",
              "      <td>131.094097</td>\n",
              "      <td>130.962663</td>\n",
              "    </tr>\n",
              "    <tr>\n",
              "      <th>3</th>\n",
              "      <td>88.496119</td>\n",
              "      <td>82.656692</td>\n",
              "    </tr>\n",
              "    <tr>\n",
              "      <th>4</th>\n",
              "      <td>132.559750</td>\n",
              "      <td>155.237585</td>\n",
              "    </tr>\n",
              "  </tbody>\n",
              "</table>\n",
              "</div>\n",
              "    <div class=\"colab-df-buttons\">\n",
              "\n",
              "  <div class=\"colab-df-container\">\n",
              "    <button class=\"colab-df-convert\" onclick=\"convertToInteractive('df-d8abd4d6-dc3e-413b-a075-52c93eb363ca')\"\n",
              "            title=\"Convert this dataframe to an interactive table.\"\n",
              "            style=\"display:none;\">\n",
              "\n",
              "  <svg xmlns=\"http://www.w3.org/2000/svg\" height=\"24px\" viewBox=\"0 -960 960 960\">\n",
              "    <path d=\"M120-120v-720h720v720H120Zm60-500h600v-160H180v160Zm220 220h160v-160H400v160Zm0 220h160v-160H400v160ZM180-400h160v-160H180v160Zm440 0h160v-160H620v160ZM180-180h160v-160H180v160Zm440 0h160v-160H620v160Z\"/>\n",
              "  </svg>\n",
              "    </button>\n",
              "\n",
              "  <style>\n",
              "    .colab-df-container {\n",
              "      display:flex;\n",
              "      gap: 12px;\n",
              "    }\n",
              "\n",
              "    .colab-df-convert {\n",
              "      background-color: #E8F0FE;\n",
              "      border: none;\n",
              "      border-radius: 50%;\n",
              "      cursor: pointer;\n",
              "      display: none;\n",
              "      fill: #1967D2;\n",
              "      height: 32px;\n",
              "      padding: 0 0 0 0;\n",
              "      width: 32px;\n",
              "    }\n",
              "\n",
              "    .colab-df-convert:hover {\n",
              "      background-color: #E2EBFA;\n",
              "      box-shadow: 0px 1px 2px rgba(60, 64, 67, 0.3), 0px 1px 3px 1px rgba(60, 64, 67, 0.15);\n",
              "      fill: #174EA6;\n",
              "    }\n",
              "\n",
              "    .colab-df-buttons div {\n",
              "      margin-bottom: 4px;\n",
              "    }\n",
              "\n",
              "    [theme=dark] .colab-df-convert {\n",
              "      background-color: #3B4455;\n",
              "      fill: #D2E3FC;\n",
              "    }\n",
              "\n",
              "    [theme=dark] .colab-df-convert:hover {\n",
              "      background-color: #434B5C;\n",
              "      box-shadow: 0px 1px 3px 1px rgba(0, 0, 0, 0.15);\n",
              "      filter: drop-shadow(0px 1px 2px rgba(0, 0, 0, 0.3));\n",
              "      fill: #FFFFFF;\n",
              "    }\n",
              "  </style>\n",
              "\n",
              "    <script>\n",
              "      const buttonEl =\n",
              "        document.querySelector('#df-d8abd4d6-dc3e-413b-a075-52c93eb363ca button.colab-df-convert');\n",
              "      buttonEl.style.display =\n",
              "        google.colab.kernel.accessAllowed ? 'block' : 'none';\n",
              "\n",
              "      async function convertToInteractive(key) {\n",
              "        const element = document.querySelector('#df-d8abd4d6-dc3e-413b-a075-52c93eb363ca');\n",
              "        const dataTable =\n",
              "          await google.colab.kernel.invokeFunction('convertToInteractive',\n",
              "                                                    [key], {});\n",
              "        if (!dataTable) return;\n",
              "\n",
              "        const docLinkHtml = 'Like what you see? Visit the ' +\n",
              "          '<a target=\"_blank\" href=https://colab.research.google.com/notebooks/data_table.ipynb>data table notebook</a>'\n",
              "          + ' to learn more about interactive tables.';\n",
              "        element.innerHTML = '';\n",
              "        dataTable['output_type'] = 'display_data';\n",
              "        await google.colab.output.renderOutput(dataTable, element);\n",
              "        const docLink = document.createElement('div');\n",
              "        docLink.innerHTML = docLinkHtml;\n",
              "        element.appendChild(docLink);\n",
              "      }\n",
              "    </script>\n",
              "  </div>\n",
              "\n",
              "\n",
              "<div id=\"df-694676c4-570a-470b-bcff-9cdbe4a70455\">\n",
              "  <button class=\"colab-df-quickchart\" onclick=\"quickchart('df-694676c4-570a-470b-bcff-9cdbe4a70455')\"\n",
              "            title=\"Suggest charts.\"\n",
              "            style=\"display:none;\">\n",
              "\n",
              "<svg xmlns=\"http://www.w3.org/2000/svg\" height=\"24px\"viewBox=\"0 0 24 24\"\n",
              "     width=\"24px\">\n",
              "    <g>\n",
              "        <path d=\"M19 3H5c-1.1 0-2 .9-2 2v14c0 1.1.9 2 2 2h14c1.1 0 2-.9 2-2V5c0-1.1-.9-2-2-2zM9 17H7v-7h2v7zm4 0h-2V7h2v10zm4 0h-2v-4h2v4z\"/>\n",
              "    </g>\n",
              "</svg>\n",
              "  </button>\n",
              "\n",
              "<style>\n",
              "  .colab-df-quickchart {\n",
              "      --bg-color: #E8F0FE;\n",
              "      --fill-color: #1967D2;\n",
              "      --hover-bg-color: #E2EBFA;\n",
              "      --hover-fill-color: #174EA6;\n",
              "      --disabled-fill-color: #AAA;\n",
              "      --disabled-bg-color: #DDD;\n",
              "  }\n",
              "\n",
              "  [theme=dark] .colab-df-quickchart {\n",
              "      --bg-color: #3B4455;\n",
              "      --fill-color: #D2E3FC;\n",
              "      --hover-bg-color: #434B5C;\n",
              "      --hover-fill-color: #FFFFFF;\n",
              "      --disabled-bg-color: #3B4455;\n",
              "      --disabled-fill-color: #666;\n",
              "  }\n",
              "\n",
              "  .colab-df-quickchart {\n",
              "    background-color: var(--bg-color);\n",
              "    border: none;\n",
              "    border-radius: 50%;\n",
              "    cursor: pointer;\n",
              "    display: none;\n",
              "    fill: var(--fill-color);\n",
              "    height: 32px;\n",
              "    padding: 0;\n",
              "    width: 32px;\n",
              "  }\n",
              "\n",
              "  .colab-df-quickchart:hover {\n",
              "    background-color: var(--hover-bg-color);\n",
              "    box-shadow: 0 1px 2px rgba(60, 64, 67, 0.3), 0 1px 3px 1px rgba(60, 64, 67, 0.15);\n",
              "    fill: var(--button-hover-fill-color);\n",
              "  }\n",
              "\n",
              "  .colab-df-quickchart-complete:disabled,\n",
              "  .colab-df-quickchart-complete:disabled:hover {\n",
              "    background-color: var(--disabled-bg-color);\n",
              "    fill: var(--disabled-fill-color);\n",
              "    box-shadow: none;\n",
              "  }\n",
              "\n",
              "  .colab-df-spinner {\n",
              "    border: 2px solid var(--fill-color);\n",
              "    border-color: transparent;\n",
              "    border-bottom-color: var(--fill-color);\n",
              "    animation:\n",
              "      spin 1s steps(1) infinite;\n",
              "  }\n",
              "\n",
              "  @keyframes spin {\n",
              "    0% {\n",
              "      border-color: transparent;\n",
              "      border-bottom-color: var(--fill-color);\n",
              "      border-left-color: var(--fill-color);\n",
              "    }\n",
              "    20% {\n",
              "      border-color: transparent;\n",
              "      border-left-color: var(--fill-color);\n",
              "      border-top-color: var(--fill-color);\n",
              "    }\n",
              "    30% {\n",
              "      border-color: transparent;\n",
              "      border-left-color: var(--fill-color);\n",
              "      border-top-color: var(--fill-color);\n",
              "      border-right-color: var(--fill-color);\n",
              "    }\n",
              "    40% {\n",
              "      border-color: transparent;\n",
              "      border-right-color: var(--fill-color);\n",
              "      border-top-color: var(--fill-color);\n",
              "    }\n",
              "    60% {\n",
              "      border-color: transparent;\n",
              "      border-right-color: var(--fill-color);\n",
              "    }\n",
              "    80% {\n",
              "      border-color: transparent;\n",
              "      border-right-color: var(--fill-color);\n",
              "      border-bottom-color: var(--fill-color);\n",
              "    }\n",
              "    90% {\n",
              "      border-color: transparent;\n",
              "      border-bottom-color: var(--fill-color);\n",
              "    }\n",
              "  }\n",
              "</style>\n",
              "\n",
              "  <script>\n",
              "    async function quickchart(key) {\n",
              "      const quickchartButtonEl =\n",
              "        document.querySelector('#' + key + ' button');\n",
              "      quickchartButtonEl.disabled = true;  // To prevent multiple clicks.\n",
              "      quickchartButtonEl.classList.add('colab-df-spinner');\n",
              "      try {\n",
              "        const charts = await google.colab.kernel.invokeFunction(\n",
              "            'suggestCharts', [key], {});\n",
              "      } catch (error) {\n",
              "        console.error('Error during call to suggestCharts:', error);\n",
              "      }\n",
              "      quickchartButtonEl.classList.remove('colab-df-spinner');\n",
              "      quickchartButtonEl.classList.add('colab-df-quickchart-complete');\n",
              "    }\n",
              "    (() => {\n",
              "      let quickchartButtonEl =\n",
              "        document.querySelector('#df-694676c4-570a-470b-bcff-9cdbe4a70455 button');\n",
              "      quickchartButtonEl.style.display =\n",
              "        google.colab.kernel.accessAllowed ? 'block' : 'none';\n",
              "    })();\n",
              "  </script>\n",
              "</div>\n",
              "    </div>\n",
              "  </div>\n"
            ]
          },
          "metadata": {},
          "execution_count": 4
        }
      ]
    },
    {
      "cell_type": "code",
      "source": [
        "results['error'] = results['y_true'] - results['y_pred']\n",
        "results.head()"
      ],
      "metadata": {
        "colab": {
          "base_uri": "https://localhost:8080/",
          "height": 206
        },
        "id": "LpiAibLXFGOE",
        "outputId": "14b44b9a-a5b5-41ce-af80-5b6c99418e92"
      },
      "execution_count": 5,
      "outputs": [
        {
          "output_type": "execute_result",
          "data": {
            "text/plain": [
              "       y_true      y_pred      error\n",
              "0  104.457392   97.500948   6.956444\n",
              "1   89.067148   91.426572  -2.359424\n",
              "2  131.094097  130.962663   0.131434\n",
              "3   88.496119   82.656692   5.839427\n",
              "4  132.559750  155.237585 -22.677835"
            ],
            "text/html": [
              "\n",
              "  <div id=\"df-c674051a-8301-4278-b5d2-a2f2af0b480c\" class=\"colab-df-container\">\n",
              "    <div>\n",
              "<style scoped>\n",
              "    .dataframe tbody tr th:only-of-type {\n",
              "        vertical-align: middle;\n",
              "    }\n",
              "\n",
              "    .dataframe tbody tr th {\n",
              "        vertical-align: top;\n",
              "    }\n",
              "\n",
              "    .dataframe thead th {\n",
              "        text-align: right;\n",
              "    }\n",
              "</style>\n",
              "<table border=\"1\" class=\"dataframe\">\n",
              "  <thead>\n",
              "    <tr style=\"text-align: right;\">\n",
              "      <th></th>\n",
              "      <th>y_true</th>\n",
              "      <th>y_pred</th>\n",
              "      <th>error</th>\n",
              "    </tr>\n",
              "  </thead>\n",
              "  <tbody>\n",
              "    <tr>\n",
              "      <th>0</th>\n",
              "      <td>104.457392</td>\n",
              "      <td>97.500948</td>\n",
              "      <td>6.956444</td>\n",
              "    </tr>\n",
              "    <tr>\n",
              "      <th>1</th>\n",
              "      <td>89.067148</td>\n",
              "      <td>91.426572</td>\n",
              "      <td>-2.359424</td>\n",
              "    </tr>\n",
              "    <tr>\n",
              "      <th>2</th>\n",
              "      <td>131.094097</td>\n",
              "      <td>130.962663</td>\n",
              "      <td>0.131434</td>\n",
              "    </tr>\n",
              "    <tr>\n",
              "      <th>3</th>\n",
              "      <td>88.496119</td>\n",
              "      <td>82.656692</td>\n",
              "      <td>5.839427</td>\n",
              "    </tr>\n",
              "    <tr>\n",
              "      <th>4</th>\n",
              "      <td>132.559750</td>\n",
              "      <td>155.237585</td>\n",
              "      <td>-22.677835</td>\n",
              "    </tr>\n",
              "  </tbody>\n",
              "</table>\n",
              "</div>\n",
              "    <div class=\"colab-df-buttons\">\n",
              "\n",
              "  <div class=\"colab-df-container\">\n",
              "    <button class=\"colab-df-convert\" onclick=\"convertToInteractive('df-c674051a-8301-4278-b5d2-a2f2af0b480c')\"\n",
              "            title=\"Convert this dataframe to an interactive table.\"\n",
              "            style=\"display:none;\">\n",
              "\n",
              "  <svg xmlns=\"http://www.w3.org/2000/svg\" height=\"24px\" viewBox=\"0 -960 960 960\">\n",
              "    <path d=\"M120-120v-720h720v720H120Zm60-500h600v-160H180v160Zm220 220h160v-160H400v160Zm0 220h160v-160H400v160ZM180-400h160v-160H180v160Zm440 0h160v-160H620v160ZM180-180h160v-160H180v160Zm440 0h160v-160H620v160Z\"/>\n",
              "  </svg>\n",
              "    </button>\n",
              "\n",
              "  <style>\n",
              "    .colab-df-container {\n",
              "      display:flex;\n",
              "      gap: 12px;\n",
              "    }\n",
              "\n",
              "    .colab-df-convert {\n",
              "      background-color: #E8F0FE;\n",
              "      border: none;\n",
              "      border-radius: 50%;\n",
              "      cursor: pointer;\n",
              "      display: none;\n",
              "      fill: #1967D2;\n",
              "      height: 32px;\n",
              "      padding: 0 0 0 0;\n",
              "      width: 32px;\n",
              "    }\n",
              "\n",
              "    .colab-df-convert:hover {\n",
              "      background-color: #E2EBFA;\n",
              "      box-shadow: 0px 1px 2px rgba(60, 64, 67, 0.3), 0px 1px 3px 1px rgba(60, 64, 67, 0.15);\n",
              "      fill: #174EA6;\n",
              "    }\n",
              "\n",
              "    .colab-df-buttons div {\n",
              "      margin-bottom: 4px;\n",
              "    }\n",
              "\n",
              "    [theme=dark] .colab-df-convert {\n",
              "      background-color: #3B4455;\n",
              "      fill: #D2E3FC;\n",
              "    }\n",
              "\n",
              "    [theme=dark] .colab-df-convert:hover {\n",
              "      background-color: #434B5C;\n",
              "      box-shadow: 0px 1px 3px 1px rgba(0, 0, 0, 0.15);\n",
              "      filter: drop-shadow(0px 1px 2px rgba(0, 0, 0, 0.3));\n",
              "      fill: #FFFFFF;\n",
              "    }\n",
              "  </style>\n",
              "\n",
              "    <script>\n",
              "      const buttonEl =\n",
              "        document.querySelector('#df-c674051a-8301-4278-b5d2-a2f2af0b480c button.colab-df-convert');\n",
              "      buttonEl.style.display =\n",
              "        google.colab.kernel.accessAllowed ? 'block' : 'none';\n",
              "\n",
              "      async function convertToInteractive(key) {\n",
              "        const element = document.querySelector('#df-c674051a-8301-4278-b5d2-a2f2af0b480c');\n",
              "        const dataTable =\n",
              "          await google.colab.kernel.invokeFunction('convertToInteractive',\n",
              "                                                    [key], {});\n",
              "        if (!dataTable) return;\n",
              "\n",
              "        const docLinkHtml = 'Like what you see? Visit the ' +\n",
              "          '<a target=\"_blank\" href=https://colab.research.google.com/notebooks/data_table.ipynb>data table notebook</a>'\n",
              "          + ' to learn more about interactive tables.';\n",
              "        element.innerHTML = '';\n",
              "        dataTable['output_type'] = 'display_data';\n",
              "        await google.colab.output.renderOutput(dataTable, element);\n",
              "        const docLink = document.createElement('div');\n",
              "        docLink.innerHTML = docLinkHtml;\n",
              "        element.appendChild(docLink);\n",
              "      }\n",
              "    </script>\n",
              "  </div>\n",
              "\n",
              "\n",
              "<div id=\"df-9cb66ca3-3920-4aaf-a668-0fe2ae8c727f\">\n",
              "  <button class=\"colab-df-quickchart\" onclick=\"quickchart('df-9cb66ca3-3920-4aaf-a668-0fe2ae8c727f')\"\n",
              "            title=\"Suggest charts.\"\n",
              "            style=\"display:none;\">\n",
              "\n",
              "<svg xmlns=\"http://www.w3.org/2000/svg\" height=\"24px\"viewBox=\"0 0 24 24\"\n",
              "     width=\"24px\">\n",
              "    <g>\n",
              "        <path d=\"M19 3H5c-1.1 0-2 .9-2 2v14c0 1.1.9 2 2 2h14c1.1 0 2-.9 2-2V5c0-1.1-.9-2-2-2zM9 17H7v-7h2v7zm4 0h-2V7h2v10zm4 0h-2v-4h2v4z\"/>\n",
              "    </g>\n",
              "</svg>\n",
              "  </button>\n",
              "\n",
              "<style>\n",
              "  .colab-df-quickchart {\n",
              "      --bg-color: #E8F0FE;\n",
              "      --fill-color: #1967D2;\n",
              "      --hover-bg-color: #E2EBFA;\n",
              "      --hover-fill-color: #174EA6;\n",
              "      --disabled-fill-color: #AAA;\n",
              "      --disabled-bg-color: #DDD;\n",
              "  }\n",
              "\n",
              "  [theme=dark] .colab-df-quickchart {\n",
              "      --bg-color: #3B4455;\n",
              "      --fill-color: #D2E3FC;\n",
              "      --hover-bg-color: #434B5C;\n",
              "      --hover-fill-color: #FFFFFF;\n",
              "      --disabled-bg-color: #3B4455;\n",
              "      --disabled-fill-color: #666;\n",
              "  }\n",
              "\n",
              "  .colab-df-quickchart {\n",
              "    background-color: var(--bg-color);\n",
              "    border: none;\n",
              "    border-radius: 50%;\n",
              "    cursor: pointer;\n",
              "    display: none;\n",
              "    fill: var(--fill-color);\n",
              "    height: 32px;\n",
              "    padding: 0;\n",
              "    width: 32px;\n",
              "  }\n",
              "\n",
              "  .colab-df-quickchart:hover {\n",
              "    background-color: var(--hover-bg-color);\n",
              "    box-shadow: 0 1px 2px rgba(60, 64, 67, 0.3), 0 1px 3px 1px rgba(60, 64, 67, 0.15);\n",
              "    fill: var(--button-hover-fill-color);\n",
              "  }\n",
              "\n",
              "  .colab-df-quickchart-complete:disabled,\n",
              "  .colab-df-quickchart-complete:disabled:hover {\n",
              "    background-color: var(--disabled-bg-color);\n",
              "    fill: var(--disabled-fill-color);\n",
              "    box-shadow: none;\n",
              "  }\n",
              "\n",
              "  .colab-df-spinner {\n",
              "    border: 2px solid var(--fill-color);\n",
              "    border-color: transparent;\n",
              "    border-bottom-color: var(--fill-color);\n",
              "    animation:\n",
              "      spin 1s steps(1) infinite;\n",
              "  }\n",
              "\n",
              "  @keyframes spin {\n",
              "    0% {\n",
              "      border-color: transparent;\n",
              "      border-bottom-color: var(--fill-color);\n",
              "      border-left-color: var(--fill-color);\n",
              "    }\n",
              "    20% {\n",
              "      border-color: transparent;\n",
              "      border-left-color: var(--fill-color);\n",
              "      border-top-color: var(--fill-color);\n",
              "    }\n",
              "    30% {\n",
              "      border-color: transparent;\n",
              "      border-left-color: var(--fill-color);\n",
              "      border-top-color: var(--fill-color);\n",
              "      border-right-color: var(--fill-color);\n",
              "    }\n",
              "    40% {\n",
              "      border-color: transparent;\n",
              "      border-right-color: var(--fill-color);\n",
              "      border-top-color: var(--fill-color);\n",
              "    }\n",
              "    60% {\n",
              "      border-color: transparent;\n",
              "      border-right-color: var(--fill-color);\n",
              "    }\n",
              "    80% {\n",
              "      border-color: transparent;\n",
              "      border-right-color: var(--fill-color);\n",
              "      border-bottom-color: var(--fill-color);\n",
              "    }\n",
              "    90% {\n",
              "      border-color: transparent;\n",
              "      border-bottom-color: var(--fill-color);\n",
              "    }\n",
              "  }\n",
              "</style>\n",
              "\n",
              "  <script>\n",
              "    async function quickchart(key) {\n",
              "      const quickchartButtonEl =\n",
              "        document.querySelector('#' + key + ' button');\n",
              "      quickchartButtonEl.disabled = true;  // To prevent multiple clicks.\n",
              "      quickchartButtonEl.classList.add('colab-df-spinner');\n",
              "      try {\n",
              "        const charts = await google.colab.kernel.invokeFunction(\n",
              "            'suggestCharts', [key], {});\n",
              "      } catch (error) {\n",
              "        console.error('Error during call to suggestCharts:', error);\n",
              "      }\n",
              "      quickchartButtonEl.classList.remove('colab-df-spinner');\n",
              "      quickchartButtonEl.classList.add('colab-df-quickchart-complete');\n",
              "    }\n",
              "    (() => {\n",
              "      let quickchartButtonEl =\n",
              "        document.querySelector('#df-9cb66ca3-3920-4aaf-a668-0fe2ae8c727f button');\n",
              "      quickchartButtonEl.style.display =\n",
              "        google.colab.kernel.accessAllowed ? 'block' : 'none';\n",
              "    })();\n",
              "  </script>\n",
              "</div>\n",
              "    </div>\n",
              "  </div>\n"
            ]
          },
          "metadata": {},
          "execution_count": 5
        }
      ]
    },
    {
      "cell_type": "markdown",
      "source": [
        "Interpretacja graficzna"
      ],
      "metadata": {
        "id": "UP9Q3wWmFj_9"
      }
    },
    {
      "cell_type": "code",
      "source": [
        "def plot_regression_results(y_true, y_pred):\n",
        "    results = pd.DataFrame({'y_true': y_true, 'y_pred': y_pred})\n",
        "    min = results[['y_true', 'y_pred']].min().min()\n",
        "    max = results[['y_true', 'y_pred']].max().max()\n",
        "\n",
        "    fig = go.Figure(data=[go.Scatter(x=results['y_true'], y=results['y_pred'], mode='markers'),\n",
        "                    go.Scatter(x=[min, max], y=[min, max])],\n",
        "                    layout=go.Layout(showlegend=False, width=800, height=500,\n",
        "                                     xaxis_title='y_true',\n",
        "                                     yaxis_title='y_pred',\n",
        "                                     title='Regression results'))\n",
        "    fig.show()\n",
        "plot_regression_results(y_true, y_pred)"
      ],
      "metadata": {
        "colab": {
          "base_uri": "https://localhost:8080/",
          "height": 517
        },
        "id": "hNx2h4K_Fm8U",
        "outputId": "3b57fcd5-3e43-4ebb-bc54-b0a24af6089c"
      },
      "execution_count": 6,
      "outputs": [
        {
          "output_type": "display_data",
          "data": {
            "text/html": [
              "<html>\n",
              "<head><meta charset=\"utf-8\" /></head>\n",
              "<body>\n",
              "    <div>            <script src=\"https://cdnjs.cloudflare.com/ajax/libs/mathjax/2.7.5/MathJax.js?config=TeX-AMS-MML_SVG\"></script><script type=\"text/javascript\">if (window.MathJax && window.MathJax.Hub && window.MathJax.Hub.Config) {window.MathJax.Hub.Config({SVG: {font: \"STIX-Web\"}});}</script>                <script type=\"text/javascript\">window.PlotlyConfig = {MathJaxConfig: 'local'};</script>\n",
              "        <script charset=\"utf-8\" src=\"https://cdn.plot.ly/plotly-2.24.1.min.js\"></script>                <div id=\"a363798a-e171-4e87-83f7-ee1c18d2bb7e\" class=\"plotly-graph-div\" style=\"height:500px; width:800px;\"></div>            <script type=\"text/javascript\">                                    window.PLOTLYENV=window.PLOTLYENV || {};                                    if (document.getElementById(\"a363798a-e171-4e87-83f7-ee1c18d2bb7e\")) {                    Plotly.newPlot(                        \"a363798a-e171-4e87-83f7-ee1c18d2bb7e\",                        [{\"mode\":\"markers\",\"x\":[104.45739184238138,89.06714763367447,131.0940966716161,88.49611907488409,132.55975002293957,80.15012226022398,87.30475906106705,85.49954048338527,90.74266564834396,124.67039798800788,58.65407447390354,112.49304147789802,101.60982728793306,58.00281245423647,109.0956512034873,56.0427602272043,100.24011053782998,91.25425937754112,90.91387521981868,84.79682812335483,86.0652749646217,127.33316130139141,120.11883370154521,95.86591057140993,73.79283953793794,95.86273167296761,100.460250837794,136.77560637741252,80.56438303301074,119.37232279074733,123.62146159892943,91.9346880646113,104.8849562226808,119.1686562284638,104.97704886984071,115.62356899504998,93.13681362694597,78.9145272777898,92.42204815541697,88.93100588028625,114.63360439582691,138.60048452384882,83.45820387082122,116.9740737512462,64.67819414401596,104.2651132045479,121.2785986410045,91.23658684635286,99.34146474077852,84.40869753847102],\"y\":[97.50094831995553,91.42657164882714,130.9626627241444,82.65669202671842,155.2375851421009,78.77052421651209,81.38226832124414,83.28267358026758,85.75976784012636,115.27064369219303,49.80231395893107,110.0509907911544,84.9395292563011,55.91741195799302,115.51669891618808,67.36727252477516,101.26833171136438,107.11430450791893,80.9246206512873,85.91495895372802,83.06962904241338,98.56691899325051,115.47545159215964,105.55871642083666,66.07605481683225,106.01400398826888,94.40763387764376,149.3602827935228,70.4293799053269,126.22563085493775,95.56173327556573,99.3766640601956,120.73805987130021,112.44958426352748,99.17044503822733,120.62859908942968,103.64712460729918,84.38529386668534,100.76709159945646,88.78035878897221,116.41732478173589,125.88802930781618,67.4435415150773,123.03576145705496,68.503812496011,82.86310076295328,126.52209407705325,109.23638751834059,102.73299207508,67.54978591881509],\"type\":\"scatter\"},{\"x\":[49.80231395893107,155.2375851421009],\"y\":[49.80231395893107,155.2375851421009],\"type\":\"scatter\"}],                        {\"height\":500,\"showlegend\":false,\"title\":{\"text\":\"Regression results\"},\"width\":800,\"xaxis\":{\"title\":{\"text\":\"y_true\"}},\"yaxis\":{\"title\":{\"text\":\"y_pred\"}},\"template\":{\"data\":{\"histogram2dcontour\":[{\"type\":\"histogram2dcontour\",\"colorbar\":{\"outlinewidth\":0,\"ticks\":\"\"},\"colorscale\":[[0.0,\"#0d0887\"],[0.1111111111111111,\"#46039f\"],[0.2222222222222222,\"#7201a8\"],[0.3333333333333333,\"#9c179e\"],[0.4444444444444444,\"#bd3786\"],[0.5555555555555556,\"#d8576b\"],[0.6666666666666666,\"#ed7953\"],[0.7777777777777778,\"#fb9f3a\"],[0.8888888888888888,\"#fdca26\"],[1.0,\"#f0f921\"]]}],\"choropleth\":[{\"type\":\"choropleth\",\"colorbar\":{\"outlinewidth\":0,\"ticks\":\"\"}}],\"histogram2d\":[{\"type\":\"histogram2d\",\"colorbar\":{\"outlinewidth\":0,\"ticks\":\"\"},\"colorscale\":[[0.0,\"#0d0887\"],[0.1111111111111111,\"#46039f\"],[0.2222222222222222,\"#7201a8\"],[0.3333333333333333,\"#9c179e\"],[0.4444444444444444,\"#bd3786\"],[0.5555555555555556,\"#d8576b\"],[0.6666666666666666,\"#ed7953\"],[0.7777777777777778,\"#fb9f3a\"],[0.8888888888888888,\"#fdca26\"],[1.0,\"#f0f921\"]]}],\"heatmap\":[{\"type\":\"heatmap\",\"colorbar\":{\"outlinewidth\":0,\"ticks\":\"\"},\"colorscale\":[[0.0,\"#0d0887\"],[0.1111111111111111,\"#46039f\"],[0.2222222222222222,\"#7201a8\"],[0.3333333333333333,\"#9c179e\"],[0.4444444444444444,\"#bd3786\"],[0.5555555555555556,\"#d8576b\"],[0.6666666666666666,\"#ed7953\"],[0.7777777777777778,\"#fb9f3a\"],[0.8888888888888888,\"#fdca26\"],[1.0,\"#f0f921\"]]}],\"heatmapgl\":[{\"type\":\"heatmapgl\",\"colorbar\":{\"outlinewidth\":0,\"ticks\":\"\"},\"colorscale\":[[0.0,\"#0d0887\"],[0.1111111111111111,\"#46039f\"],[0.2222222222222222,\"#7201a8\"],[0.3333333333333333,\"#9c179e\"],[0.4444444444444444,\"#bd3786\"],[0.5555555555555556,\"#d8576b\"],[0.6666666666666666,\"#ed7953\"],[0.7777777777777778,\"#fb9f3a\"],[0.8888888888888888,\"#fdca26\"],[1.0,\"#f0f921\"]]}],\"contourcarpet\":[{\"type\":\"contourcarpet\",\"colorbar\":{\"outlinewidth\":0,\"ticks\":\"\"}}],\"contour\":[{\"type\":\"contour\",\"colorbar\":{\"outlinewidth\":0,\"ticks\":\"\"},\"colorscale\":[[0.0,\"#0d0887\"],[0.1111111111111111,\"#46039f\"],[0.2222222222222222,\"#7201a8\"],[0.3333333333333333,\"#9c179e\"],[0.4444444444444444,\"#bd3786\"],[0.5555555555555556,\"#d8576b\"],[0.6666666666666666,\"#ed7953\"],[0.7777777777777778,\"#fb9f3a\"],[0.8888888888888888,\"#fdca26\"],[1.0,\"#f0f921\"]]}],\"surface\":[{\"type\":\"surface\",\"colorbar\":{\"outlinewidth\":0,\"ticks\":\"\"},\"colorscale\":[[0.0,\"#0d0887\"],[0.1111111111111111,\"#46039f\"],[0.2222222222222222,\"#7201a8\"],[0.3333333333333333,\"#9c179e\"],[0.4444444444444444,\"#bd3786\"],[0.5555555555555556,\"#d8576b\"],[0.6666666666666666,\"#ed7953\"],[0.7777777777777778,\"#fb9f3a\"],[0.8888888888888888,\"#fdca26\"],[1.0,\"#f0f921\"]]}],\"mesh3d\":[{\"type\":\"mesh3d\",\"colorbar\":{\"outlinewidth\":0,\"ticks\":\"\"}}],\"scatter\":[{\"fillpattern\":{\"fillmode\":\"overlay\",\"size\":10,\"solidity\":0.2},\"type\":\"scatter\"}],\"parcoords\":[{\"type\":\"parcoords\",\"line\":{\"colorbar\":{\"outlinewidth\":0,\"ticks\":\"\"}}}],\"scatterpolargl\":[{\"type\":\"scatterpolargl\",\"marker\":{\"colorbar\":{\"outlinewidth\":0,\"ticks\":\"\"}}}],\"bar\":[{\"error_x\":{\"color\":\"#2a3f5f\"},\"error_y\":{\"color\":\"#2a3f5f\"},\"marker\":{\"line\":{\"color\":\"#E5ECF6\",\"width\":0.5},\"pattern\":{\"fillmode\":\"overlay\",\"size\":10,\"solidity\":0.2}},\"type\":\"bar\"}],\"scattergeo\":[{\"type\":\"scattergeo\",\"marker\":{\"colorbar\":{\"outlinewidth\":0,\"ticks\":\"\"}}}],\"scatterpolar\":[{\"type\":\"scatterpolar\",\"marker\":{\"colorbar\":{\"outlinewidth\":0,\"ticks\":\"\"}}}],\"histogram\":[{\"marker\":{\"pattern\":{\"fillmode\":\"overlay\",\"size\":10,\"solidity\":0.2}},\"type\":\"histogram\"}],\"scattergl\":[{\"type\":\"scattergl\",\"marker\":{\"colorbar\":{\"outlinewidth\":0,\"ticks\":\"\"}}}],\"scatter3d\":[{\"type\":\"scatter3d\",\"line\":{\"colorbar\":{\"outlinewidth\":0,\"ticks\":\"\"}},\"marker\":{\"colorbar\":{\"outlinewidth\":0,\"ticks\":\"\"}}}],\"scattermapbox\":[{\"type\":\"scattermapbox\",\"marker\":{\"colorbar\":{\"outlinewidth\":0,\"ticks\":\"\"}}}],\"scatterternary\":[{\"type\":\"scatterternary\",\"marker\":{\"colorbar\":{\"outlinewidth\":0,\"ticks\":\"\"}}}],\"scattercarpet\":[{\"type\":\"scattercarpet\",\"marker\":{\"colorbar\":{\"outlinewidth\":0,\"ticks\":\"\"}}}],\"carpet\":[{\"aaxis\":{\"endlinecolor\":\"#2a3f5f\",\"gridcolor\":\"white\",\"linecolor\":\"white\",\"minorgridcolor\":\"white\",\"startlinecolor\":\"#2a3f5f\"},\"baxis\":{\"endlinecolor\":\"#2a3f5f\",\"gridcolor\":\"white\",\"linecolor\":\"white\",\"minorgridcolor\":\"white\",\"startlinecolor\":\"#2a3f5f\"},\"type\":\"carpet\"}],\"table\":[{\"cells\":{\"fill\":{\"color\":\"#EBF0F8\"},\"line\":{\"color\":\"white\"}},\"header\":{\"fill\":{\"color\":\"#C8D4E3\"},\"line\":{\"color\":\"white\"}},\"type\":\"table\"}],\"barpolar\":[{\"marker\":{\"line\":{\"color\":\"#E5ECF6\",\"width\":0.5},\"pattern\":{\"fillmode\":\"overlay\",\"size\":10,\"solidity\":0.2}},\"type\":\"barpolar\"}],\"pie\":[{\"automargin\":true,\"type\":\"pie\"}]},\"layout\":{\"autotypenumbers\":\"strict\",\"colorway\":[\"#636efa\",\"#EF553B\",\"#00cc96\",\"#ab63fa\",\"#FFA15A\",\"#19d3f3\",\"#FF6692\",\"#B6E880\",\"#FF97FF\",\"#FECB52\"],\"font\":{\"color\":\"#2a3f5f\"},\"hovermode\":\"closest\",\"hoverlabel\":{\"align\":\"left\"},\"paper_bgcolor\":\"white\",\"plot_bgcolor\":\"#E5ECF6\",\"polar\":{\"bgcolor\":\"#E5ECF6\",\"angularaxis\":{\"gridcolor\":\"white\",\"linecolor\":\"white\",\"ticks\":\"\"},\"radialaxis\":{\"gridcolor\":\"white\",\"linecolor\":\"white\",\"ticks\":\"\"}},\"ternary\":{\"bgcolor\":\"#E5ECF6\",\"aaxis\":{\"gridcolor\":\"white\",\"linecolor\":\"white\",\"ticks\":\"\"},\"baxis\":{\"gridcolor\":\"white\",\"linecolor\":\"white\",\"ticks\":\"\"},\"caxis\":{\"gridcolor\":\"white\",\"linecolor\":\"white\",\"ticks\":\"\"}},\"coloraxis\":{\"colorbar\":{\"outlinewidth\":0,\"ticks\":\"\"}},\"colorscale\":{\"sequential\":[[0.0,\"#0d0887\"],[0.1111111111111111,\"#46039f\"],[0.2222222222222222,\"#7201a8\"],[0.3333333333333333,\"#9c179e\"],[0.4444444444444444,\"#bd3786\"],[0.5555555555555556,\"#d8576b\"],[0.6666666666666666,\"#ed7953\"],[0.7777777777777778,\"#fb9f3a\"],[0.8888888888888888,\"#fdca26\"],[1.0,\"#f0f921\"]],\"sequentialminus\":[[0.0,\"#0d0887\"],[0.1111111111111111,\"#46039f\"],[0.2222222222222222,\"#7201a8\"],[0.3333333333333333,\"#9c179e\"],[0.4444444444444444,\"#bd3786\"],[0.5555555555555556,\"#d8576b\"],[0.6666666666666666,\"#ed7953\"],[0.7777777777777778,\"#fb9f3a\"],[0.8888888888888888,\"#fdca26\"],[1.0,\"#f0f921\"]],\"diverging\":[[0,\"#8e0152\"],[0.1,\"#c51b7d\"],[0.2,\"#de77ae\"],[0.3,\"#f1b6da\"],[0.4,\"#fde0ef\"],[0.5,\"#f7f7f7\"],[0.6,\"#e6f5d0\"],[0.7,\"#b8e186\"],[0.8,\"#7fbc41\"],[0.9,\"#4d9221\"],[1,\"#276419\"]]},\"xaxis\":{\"gridcolor\":\"white\",\"linecolor\":\"white\",\"ticks\":\"\",\"title\":{\"standoff\":15},\"zerolinecolor\":\"white\",\"automargin\":true,\"zerolinewidth\":2},\"yaxis\":{\"gridcolor\":\"white\",\"linecolor\":\"white\",\"ticks\":\"\",\"title\":{\"standoff\":15},\"zerolinecolor\":\"white\",\"automargin\":true,\"zerolinewidth\":2},\"scene\":{\"xaxis\":{\"backgroundcolor\":\"#E5ECF6\",\"gridcolor\":\"white\",\"linecolor\":\"white\",\"showbackground\":true,\"ticks\":\"\",\"zerolinecolor\":\"white\",\"gridwidth\":2},\"yaxis\":{\"backgroundcolor\":\"#E5ECF6\",\"gridcolor\":\"white\",\"linecolor\":\"white\",\"showbackground\":true,\"ticks\":\"\",\"zerolinecolor\":\"white\",\"gridwidth\":2},\"zaxis\":{\"backgroundcolor\":\"#E5ECF6\",\"gridcolor\":\"white\",\"linecolor\":\"white\",\"showbackground\":true,\"ticks\":\"\",\"zerolinecolor\":\"white\",\"gridwidth\":2}},\"shapedefaults\":{\"line\":{\"color\":\"#2a3f5f\"}},\"annotationdefaults\":{\"arrowcolor\":\"#2a3f5f\",\"arrowhead\":0,\"arrowwidth\":1},\"geo\":{\"bgcolor\":\"white\",\"landcolor\":\"#E5ECF6\",\"subunitcolor\":\"white\",\"showland\":true,\"showlakes\":true,\"lakecolor\":\"white\"},\"title\":{\"x\":0.05},\"mapbox\":{\"style\":\"light\"}}}},                        {\"responsive\": true}                    ).then(function(){\n",
              "                            \n",
              "var gd = document.getElementById('a363798a-e171-4e87-83f7-ee1c18d2bb7e');\n",
              "var x = new MutationObserver(function (mutations, observer) {{\n",
              "        var display = window.getComputedStyle(gd).display;\n",
              "        if (!display || display === 'none') {{\n",
              "            console.log([gd, 'removed!']);\n",
              "            Plotly.purge(gd);\n",
              "            observer.disconnect();\n",
              "        }}\n",
              "}});\n",
              "\n",
              "// Listen for the removal of the full notebook cells\n",
              "var notebookContainer = gd.closest('#notebook-container');\n",
              "if (notebookContainer) {{\n",
              "    x.observe(notebookContainer, {childList: true});\n",
              "}}\n",
              "\n",
              "// Listen for the clearing of the current output cell\n",
              "var outputEl = gd.closest('.output');\n",
              "if (outputEl) {{\n",
              "    x.observe(outputEl, {childList: true});\n",
              "}}\n",
              "\n",
              "                        })                };                            </script>        </div>\n",
              "</body>\n",
              "</html>"
            ]
          },
          "metadata": {}
        }
      ]
    },
    {
      "cell_type": "code",
      "source": [
        "y_true = 100 + 20 * np.random.randn(1000)\n",
        "y_pred = y_true + 10 * np.random.randn(1000)\n",
        "results = pd.DataFrame({'y_true': y_true, 'y_pred': y_pred})\n",
        "results['error'] = results['y_true'] - results['y_pred']\n",
        "\n",
        "px.histogram(results, x='error', nbins=50, width=800)"
      ],
      "metadata": {
        "colab": {
          "base_uri": "https://localhost:8080/",
          "height": 542
        },
        "id": "aS2FEd0WGo2E",
        "outputId": "a28e30ff-f7e6-43f0-ee0b-18302d0f6d3f"
      },
      "execution_count": 7,
      "outputs": [
        {
          "output_type": "display_data",
          "data": {
            "text/html": [
              "<html>\n",
              "<head><meta charset=\"utf-8\" /></head>\n",
              "<body>\n",
              "    <div>            <script src=\"https://cdnjs.cloudflare.com/ajax/libs/mathjax/2.7.5/MathJax.js?config=TeX-AMS-MML_SVG\"></script><script type=\"text/javascript\">if (window.MathJax && window.MathJax.Hub && window.MathJax.Hub.Config) {window.MathJax.Hub.Config({SVG: {font: \"STIX-Web\"}});}</script>                <script type=\"text/javascript\">window.PlotlyConfig = {MathJaxConfig: 'local'};</script>\n",
              "        <script charset=\"utf-8\" src=\"https://cdn.plot.ly/plotly-2.24.1.min.js\"></script>                <div id=\"2e0b78bf-594a-48d3-9560-054a7cb3778e\" class=\"plotly-graph-div\" style=\"height:525px; width:800px;\"></div>            <script type=\"text/javascript\">                                    window.PLOTLYENV=window.PLOTLYENV || {};                                    if (document.getElementById(\"2e0b78bf-594a-48d3-9560-054a7cb3778e\")) {                    Plotly.newPlot(                        \"2e0b78bf-594a-48d3-9560-054a7cb3778e\",                        [{\"alignmentgroup\":\"True\",\"bingroup\":\"x\",\"hovertemplate\":\"error=%{x}\\u003cbr\\u003ecount=%{y}\\u003cextra\\u003e\\u003c\\u002fextra\\u003e\",\"legendgroup\":\"\",\"marker\":{\"color\":\"#636efa\",\"pattern\":{\"shape\":\"\"}},\"name\":\"\",\"nbinsx\":50,\"offsetgroup\":\"\",\"orientation\":\"v\",\"showlegend\":false,\"x\":[-4.467600396638105,8.929231814561241,-9.131545932927935,-4.284118781020766,9.001354886616923,-8.624845758297766,4.410034540738238,-0.7315116724955715,13.697159657986504,-2.3110790154815675,0.7918450197140743,2.7931842172825014,-11.740176699319846,-0.5989011474704427,-1.1454560317487221,12.068530111075049,12.039831292279189,-15.913567339307619,1.7409280543188856,-17.622781109555227,2.0587772346923288,-1.1589862497530419,-25.561148292858576,23.0799289747695,-6.96726341306821,8.988214291222704,5.453391261060247,0.7475916610525246,-9.495468961338268,6.386028781603002,-10.769935339520188,-10.046480051906116,-19.062380162967898,6.499184840599341,-9.521326909778779,3.3702367994548723,-26.88447055151795,-7.584269996969709,13.510749823329832,-23.52313224127272,8.007475981651254,-18.72479431857448,10.859380199519322,-8.748644690543074,-5.310165107324337,3.1950073905333056,0.05083563285062098,-3.250012266044635,19.395903902433602,-11.227411667031205,3.3533612705045073,-9.947928162962867,-12.730076684874433,5.782668461454591,-14.240485057148007,1.9943068733820155,-5.371109641612435,11.065855034892607,-4.137539943594362,3.7972429136752766,-2.16134284529646,12.0232725361911,4.616563952245954,-4.271702465017469,13.08728862806754,-6.847468664912327,-1.673819474361153,2.330675221003773,-9.140182123946772,-7.695199298647694,4.108747273932224,-4.035766255289218,5.006848041813761,8.25447270977115,0.26117739361777126,11.043905650054356,-9.4826454370694,7.105011120632128,-8.216762753902827,22.60462732698015,13.342927392297483,-12.339748014338241,1.2239286661650794,8.156579521509428,10.093867731618701,6.799257474735256,8.611543963449634,5.227897104954664,1.7454953560336435,3.7381385009476986,17.47152556254222,3.2976160693641248,-12.300298031935611,-1.2119088454564064,-1.774410287494291,-0.6038935126564979,-28.991314608116554,8.959688501891051,3.907282739720827,-4.989609997357391,17.72174649688732,-22.063071909566816,-5.944654064602162,16.37615734717363,-2.5195729661643043,2.917225868594457,-5.157005396263401,-1.7828189481868577,3.8422610673031556,-17.972452823171082,15.123840334203749,8.402559455357206,-0.5540164106428023,2.321293967884543,0.30526811179429103,12.451299406002306,-7.79184653878869,0.11815241081394845,1.4990274941433057,16.947484090855454,-6.522336656285312,-8.718343472240505,5.156292634807755,1.1699341182734884,-7.313330359043704,-6.733110087913246,-2.310380528951157,-0.047098114502716726,0.4995292012016961,-7.993523465892693,4.9333548772717535,-13.578328341529357,9.78875242815181,17.286507391853924,1.2986987430639019,-1.4187232677074064,-9.035407834537878,16.430510243121617,7.827131667680135,3.904647241988485,7.6982749982313265,10.517068134465816,8.33073978564002,-13.83197117019607,3.8466950189143603,-20.584805113627937,0.8232077101342696,5.12249147300075,-1.7435862750502622,21.870338244363978,-18.942163197097898,-10.340265408989296,7.281263724137418,-3.796510790003339,-3.095989044931855,5.782717197110927,2.273518451033695,-17.067582555176998,15.466388161365813,-0.844357332666192,6.456365366099561,9.465865256074707,-9.740551866371177,1.5953270679930824,-10.579058877812955,-15.040562659652863,4.834613700712438,2.4952894073101533,-9.701416271785291,22.827722018147398,-14.487863869632235,9.249235225827874,-18.721894627444172,17.410807632399013,-4.592631336303199,-19.237482708140334,4.933764571791485,4.507985096958876,3.742430622919315,-8.89935288224244,-1.51524569232474,-1.3451725583823446,-10.328183142824457,-7.548266731538121,7.716929514267946,-7.428191715231108,7.37934861350962,-10.548045838335867,16.287264385706962,7.416827731801533,-9.546287069650631,-7.626600524971465,0.7891952254733781,0.9335029331674463,-6.334916026575371,3.2672078349344815,-9.306164673147933,0.6773795324372713,-7.390965536036489,-6.774837287840214,-12.06911673789098,7.021336435710026,4.829849461419556,-4.287981329474405,2.6401055183471698,-8.573140026507431,-6.658875398260506,-5.128266391479997,-11.551580488665266,-2.9819269824998997,-7.558765411092963,-6.132107360398194,-13.601254296213511,6.45799384752857,-2.9583744357519492,17.97970170091294,8.877883664523694,-3.3729594254177826,8.885283693051889,9.940487167578553,0.5203998277655586,5.0142456546407885,8.388534773352973,-1.607565976940677,10.601009365136917,-0.22468716928641186,2.7153536057185192,27.491922608437626,-11.98992894752432,-1.442503819443644,2.912279757219366,-13.209307052536886,-0.9523611308627693,13.219942370215435,-2.943332641644787,15.520189363300943,2.994592207919027,12.204916488513774,6.455689702649849,1.1090427642801615,-8.22679094529434,13.201519570584907,0.9255368555777466,24.258747349323556,-17.45586643317803,1.4024165214861881,-12.090507812072047,-11.11679139982705,-12.226287612910482,1.295512505801355,-6.471312288039471,-2.1187880811773567,23.832876052997676,11.459451620401836,-16.531537623448926,7.771082147591088,-0.6038821454289263,-7.150155405580136,9.874757336164137,-8.965016995327446,0.10686082173700129,8.770515004546532,3.5702597801992653,3.732455198303782,-8.45036006561162,2.916631944514208,17.063775796963398,-5.239368605994045,12.96081903035305,-6.592299496487485,-7.032052764960781,18.179881557754456,8.025278269848016,-4.417769484087586,10.799697313920888,1.946807552096601,3.695737535093926,-0.45279911763046243,-1.2012609784913906,13.000496219418437,12.716885667172704,-2.104846489961119,10.33287912596792,-1.417399687540609,19.30505261033369,-0.5810148248085909,-2.598910559328999,-6.233167164462174,-9.039327567147026,-14.157620342118705,-2.454562703287678,9.405046506098657,13.413552242753042,-8.144563127401327,-3.230642300255923,16.72492403684663,12.058461004327057,-2.0539770600896787,11.56204085391829,-14.997212454106418,-5.657595093687505,5.594212062779832,19.397752000705466,-18.09848135000776,8.695614223606526,2.7930202060010885,1.375611471676578,15.981186975860538,4.245704901654477,0.52349157664122,-5.986174538895227,-16.84781927649631,-6.373914771193142,9.382369816272686,11.89182163212,-14.120994323014585,10.506773424286479,6.1732623717470005,2.0284136523428913,-3.972508488170149,6.275883894279303,-6.117611300141903,0.5444941652783086,13.294311068489236,-9.044918699578602,-12.536572121104768,-24.341075159992457,-16.34928180744045,-4.430330271279601,-0.8806083039202974,1.0240923037626288,-1.3957731538624785,12.288139528254177,15.83753292435263,-0.9653090103855675,10.300635493532326,-7.6196113727949495,8.215852213713319,9.85562011060479,-4.899343323196405,2.627309983071811,-7.210743554833073,6.714539210558911,12.040618516920105,-10.698250008956052,5.253857675176093,-12.404505081373856,-10.896557878793615,-1.096944560715329,-5.749476172876044,-2.327743499668699,0.607396550610062,3.979752734813019,4.438773476154708,6.573756298030872,6.233286008714188,2.128422149422491,1.996416937003886,-2.6516440914002715,15.91321920257456,5.879220838878567,2.3475867037016798,16.440102978757196,11.497712840998929,-6.654969009126816,1.9803961888880366,-14.308960682091723,7.178833016193124,12.590386856598727,28.56688081829553,7.600559689311567,-14.69537651432671,1.9435838020703073,-6.028422797846844,13.777006359637866,-7.52637581232986,-4.834060768728506,-15.317110042222978,-14.029055211233938,3.8066174738174823,-7.413143647490841,14.078564730791115,10.068971469561376,-8.084215670060033,-6.662742267697865,-12.56000441833794,6.845481954727958,13.63116698985526,6.085602943846851,7.728890954315105,18.22113875761532,1.7879232239716032,0.9089358722984286,5.763063463922023,-2.295926019239076,2.976997897718519,-0.6300918700860905,1.1428500159415762,4.389541068992827,-12.810702004055742,-14.290461736153503,5.264156378874432,11.358069863342791,-6.15810301266427,7.091260523201981,-11.618267091975639,2.3412719138903526,-8.504472691286495,-10.962557793636634,-14.951548347762369,-1.248387993212262,0.9616691828322814,1.4844251726728857,-7.846690719366663,-10.266412901913867,-0.9217144224846123,0.27449743799445514,-3.3374234044921707,10.671357486460437,-8.62975477515053,-4.067543116533642,-11.387473774879439,16.659814654216007,5.689721742976417,-5.979430770563063,9.815422064827473,11.260950862369924,-4.200723599359364,1.766503146937353,1.7633709987402426,9.091038796012114,-8.334114365944345,-1.0529481971359615,-17.35121992778734,12.45637151221419,-10.303704975918336,6.4495326464198115,4.617251784562171,-6.644414661543678,7.116269734817138,-9.247271289254186,-7.787549813565207,6.837388056458309,1.2534913883502696,-8.948692560887991,7.693288518369528,10.635150088156152,18.432796023259584,3.445863339169591,0.7524511355901922,3.1718571214904685,-4.233966126304608,-9.810998168017463,-0.816773090299705,2.903654011153364,6.767237125775409,-1.732976143747777,-1.7968926773069143,-3.3561433475404954,1.1630838633369365,-21.073162338969667,12.252299375067693,-1.86494545789202,18.079577016714268,11.58838749358145,-0.013626166887618751,-2.8087620579225643,-14.794544289465193,-1.7449898014863408,-0.9258123417343569,-12.88074766996877,22.5438729020741,1.5652556723569262,3.5143335008139047,-2.934154492462511,8.23900699501219,16.14712366709314,-7.100590810389846,-14.805996372046081,12.609667451553008,2.772326233059289,-4.648118401208251,7.977828284150675,1.155215165385954,-7.819578942397925,-3.0458812960957147,0.42576729989303885,-5.651055813134249,0.6394362112492189,1.0515236652391309,9.300439768859476,2.6803863711057403,-14.276349001107292,-18.153021802492162,15.957916690095047,-4.051748109638339,-10.788652029894351,0.2772749844877893,5.907747620045839,6.8336239420325455,-10.08823584003693,-17.75268105406039,-0.9549532938160752,-9.688240015870889,11.8558428922166,-13.974272636682272,12.903675238308722,15.946250770927762,-5.475001945025639,-9.04295215968007,-6.099016328569107,-1.472018260606717,-2.196860008567427,-0.9272067306005454,-5.960659670166109,-5.496230331316994,-3.521071434113935,2.963272234879625,2.8867967830823176,16.75417504701346,-15.954637998749433,8.048168752734156,18.366987851864764,-1.8973388120433299,-3.7165162372980944,4.262161377188008,-15.183032073104215,-4.350527004900442,8.885333136721613,13.493841891455276,-1.0173935276127821,-12.359937403679666,19.789542847851152,13.721809605046246,4.1801655067224175,5.319294939350755,5.671139787455104,6.690641789129415,7.21209945856954,-11.348142405144756,-3.7639311817249848,8.219138093266665,-7.861454979475624,-0.6756678769572773,-9.208036533201266,2.545284006704861,-1.2705721665923022,-0.30204420565084433,-13.451767837642564,-8.511135245298533,8.800433813057325,-17.791089280474665,-0.4639086021058034,-5.386602677044692,11.288009946531133,22.547151579912267,7.021196159855307,-2.3114774362060757,3.8590657260092343,6.387091856365075,14.147999073093587,4.898648631846953,3.0895453225511034,2.093324498632967,-6.357783914382026,7.817663808340228,-3.9960673768626407,7.648734073065668,-2.1507593598677914,-6.5266243114544125,-15.609283395689559,-23.03043911408278,0.8014337924284547,13.028175993228274,18.115100321551864,2.0749873307508153,-5.053993339274115,2.424525094572985,2.408711688511751,8.69168048748734,-10.937265808392326,-16.21277659673278,9.308520618159733,13.461511437180476,19.467160735205326,-4.993306602702347,15.498077563314766,-0.744856234573902,6.874150748067578,-0.9909923707869552,-3.8748275429634447,-0.9466787386846249,0.3394510720657564,4.35188342044718,7.822554356304835,21.51551202184244,10.289215025103232,-0.33940918067762027,-3.74045855803476,-5.887456885243978,13.813335398540517,-4.11409677747595,8.836896474697625,-1.4053146924411806,2.582576112736561,-3.5026203514258896,-17.579113115362034,20.99980595402549,-2.3688203185535883,-11.238272843488033,-5.154873401456484,-4.372950644787807,-13.344411487114783,-2.234664452983253,-9.598427223236271,16.85669009838233,0.7522220958319252,-5.84218091264168,9.087653453044098,-2.446038247628806,-4.7844240461312495,-1.8747617071895633,-3.955123924894707,-6.421066761470001,3.942014351418507,9.395585444408255,0.9950599911339992,-8.608288256994143,14.402715674254424,-12.285582864704764,14.28178951218328,-5.6374860605715185,-8.107818980472857,-5.877990286812107,3.5628092981140043,-7.228896832078178,-4.745564173606567,9.5510701507133,0.15981568199616447,14.72667387177411,-5.021523847522232,15.464448687788845,0.3748910300101187,-9.940942326636318,-1.7612408882288975,8.584366109910647,-1.7011464951228135,8.814987135144449,16.791362657878224,15.09048580383623,-4.734505188590703,-13.280552964469564,7.868867562524741,-3.8713985616577844,-13.442186002505636,26.173946851559748,-3.978336364533874,14.81195315181347,-6.230510575137572,4.391443754231517,0.0737046614932666,2.514981632751301,0.9051929516913901,1.706518838418404,0.8207975853683962,3.829932451178024,-0.17248059501545754,20.61579789131021,-13.805525629615602,-5.920943728388963,15.254917655558387,0.4128648821011609,-11.790467506482273,-5.760095206362919,-5.805256784490723,-3.673285355011899,1.4063607733808539,13.026680416477248,5.144419398882249,10.985759175803963,6.290846979945982,-4.327915427018766,-5.592526355742834,-10.525644315856567,25.261551114225412,-15.838147445095629,13.897665109079853,-11.568071666888812,-27.084720152008444,5.802898762917707,-11.286548174816033,-11.961921451623624,14.209245390973024,-6.560244558008122,-10.64432848565113,7.5530157623084975,3.6820757881728383,3.66390642806185,1.0937220663178948,10.03491063573297,-16.14963041009898,5.3688391512706914,-11.912018585545695,-1.807772616480321,-1.8482115148137979,-6.837080092036246,5.479053517553069,-8.11774874330618,-3.5766545561535565,4.85762221599758,-0.23959147249425428,1.0183347641901435,-0.08073436433568304,17.320066215949815,13.802926638085381,-29.71919135729007,-15.558861817466337,11.673987740382216,10.089173974453672,-2.052059652662706,1.0550936773268944,4.0537283989051645,1.0121605129832858,7.81835453343875,0.27860562892264795,-0.7521150511976913,5.240348753875978,-2.669613266903596,13.811889612718858,18.80989807209177,5.8750028658897975,0.15756374429926723,3.9351032159515995,4.270896888461245,-1.9354369027834366,-5.933745229260396,-12.307981468644925,4.137828882490908,-9.885203398480925,6.664137602376371,11.11540454114008,-7.484468109808375,9.994732252728724,-11.247329919049434,-7.168478556272007,18.788008668696733,-4.993605510988857,2.3207440914334683,-9.05837511773339,4.202228397043825,-9.931141586972657,-3.0330557325270178,12.762225108113952,7.373526178050724,15.989240571679403,1.5918456193431467,-5.296446847796105,-1.7610374521348007,-2.0835918860352365,9.40201139937301,-4.415673712871467,13.847785331159514,-6.428797545181453,4.158687980328153,-14.407650790996428,-15.058728195966154,6.775490214233145,-15.774801942860591,15.26778047396202,4.169579782943046,8.040499924831082,-14.479823560445496,-0.12576633241829427,6.380678302563908,5.645643203603058,-21.81937203385334,-5.92689116548128,6.291354468203934,7.797361601808618,-2.238540430014268,-16.334708822007656,1.5580237198386442,-2.1143045766954813,-3.2843614682810767,6.7574852991601375,10.693810166049758,2.331474417435409,-10.179774472617325,-20.422121524095502,-16.636956041682836,-5.131003633646898,-6.598612348814257,7.966723158426404,0.48940583688994366,18.988329749915707,3.9492446173233873,6.265979444540903,-5.734861836699196,23.816711756700712,11.69314138521112,8.012797085371716,5.317444852747954,-3.5306355578417623,8.854936458512654,0.3643062871524734,-9.225440600310051,11.044833552144397,-27.239838289032136,-3.4205986306076497,-1.9900863632716863,-9.694740110694795,-5.598655869565704,32.087223138058924,0.6759076617216806,-9.181066675161773,1.0760702986526667,3.27536074519341,-8.695334698025093,7.3819709718355995,11.780802062043733,1.787337509426294,-1.870254375855609,-5.464671528500645,-16.06395742680928,16.37831542648395,3.16221904402488,15.798847120065503,8.17923285773415,-16.430645606606433,1.415428894689768,0.6350767743656718,1.3258443510497813,-3.639028575510011,14.465468945227968,23.55259436056005,10.538226071144308,19.93714136119057,-0.606964710762739,-0.09500327658267338,4.576229972204885,-7.909863039177367,-4.256142646120168,17.214140996973086,3.0656301098968584,23.7327350719401,2.2590696533912364,-4.267774008106329,-5.671807378779803,-4.564154582651177,-1.6341404409345444,9.408417110560151,9.801913796847089,10.170303349432402,-0.7703747555845695,-17.372394848091204,4.7135302313366765,7.00809976714757,2.3222795149569038,0.6914584518032001,13.875041693910973,9.908420657816364,14.21568504487503,-7.4790797013017425,0.6897608607699937,4.8003896318335535,-3.071057652378059,-13.384337462157475,14.583841353280945,-5.38010587320386,13.3278543268882,11.603795811166208,-10.289205930946693,6.590126481189287,-6.790313530696508,20.733386334057002,18.394465333045247,2.6567935553256206,9.366263295090334,15.116325528109428,-17.046651405405825,3.9643168349794706,-14.011382617110925,-14.361646870950807,1.2052346044631292,4.098182437555593,-19.04347656707091,-12.247967262767887,15.366327561219691,-2.5387941960882756,-9.819993615796818,-12.546629298932586,-13.3543737207347,8.977096737545963,-17.53104599965397,-9.21052139375766,9.880712573366637,4.656166774483097,-7.7368165727500156,-1.0455641938622193,12.309245750364191,-5.80966644274902,-15.664948244936639,-9.020528392630467,-1.702325892369089,2.00787529407026,1.2232314743565098,-7.445785667487314,-11.124069280525674,1.2028176741307988,11.16713606251335,-12.95776819663645,8.684461913910965,6.7090330834256235,-7.900517440550146,-10.822370282574482,7.397081918900213,-0.6478420357102834,-1.3580927337009143,4.335683642352393,2.8906387118278047,4.766903383770625,2.748898703751152,-2.555845614350133,1.7028190941039725,17.809706371227506,-3.9647865647030898,-6.82173174945423,5.0193157902502605,0.017204485968804306,-10.970847305575333,-12.172433840359119,-14.20059692563916,-7.851489938713513,-9.701137716135278,-5.198712244178736,11.948759066218358,-1.211869124638966,-25.007591363665036,17.633372939161944,-0.5649425684663072,-3.9243683647395926,-6.898570208017809,-11.365100821910758,6.44349411420626,7.491677594975485,10.996853262221379,-0.9684356038093966,-5.063780288873886,16.371815216470367,1.9416837792471284,-3.910730879982161,16.672727457679045,0.4760340384826378,-8.297245157897876,12.97654033127938,-8.216621388788141,10.225614716331563,-6.042875630067144,3.6317979255425,18.717459048037256,3.0981507974746876,-1.4680454907522176,-6.467365879015489,-4.462712348249539,22.59771165672744,-10.514926878748938,7.118369511511261,10.567870916863555,-8.339392145239998,-2.007140068091971,13.33064849001498,-13.166456472618009,-2.931045581448103,8.144465692073297,-12.806432964640692,-0.4615597300775818,-2.186831814678726,-0.10420333595813247,7.710378313612011,-18.630394033145905,-0.6499801441599686,0.9316437682237648,-15.01159046046206,3.7132422298798247,-15.354127588225595,-9.079778038780347,-4.911806204113489,9.268312474729953,-8.52042822600103,-4.390197312531612,19.6154524431428,-2.8240681213767402,3.6042811484226718,4.202986016518864,5.002985186043375,0.885172779453768,8.542584262726326,12.960728088366238,-1.6621402558659213,6.610239213488825],\"xaxis\":\"x\",\"yaxis\":\"y\",\"type\":\"histogram\"}],                        {\"template\":{\"data\":{\"histogram2dcontour\":[{\"type\":\"histogram2dcontour\",\"colorbar\":{\"outlinewidth\":0,\"ticks\":\"\"},\"colorscale\":[[0.0,\"#0d0887\"],[0.1111111111111111,\"#46039f\"],[0.2222222222222222,\"#7201a8\"],[0.3333333333333333,\"#9c179e\"],[0.4444444444444444,\"#bd3786\"],[0.5555555555555556,\"#d8576b\"],[0.6666666666666666,\"#ed7953\"],[0.7777777777777778,\"#fb9f3a\"],[0.8888888888888888,\"#fdca26\"],[1.0,\"#f0f921\"]]}],\"choropleth\":[{\"type\":\"choropleth\",\"colorbar\":{\"outlinewidth\":0,\"ticks\":\"\"}}],\"histogram2d\":[{\"type\":\"histogram2d\",\"colorbar\":{\"outlinewidth\":0,\"ticks\":\"\"},\"colorscale\":[[0.0,\"#0d0887\"],[0.1111111111111111,\"#46039f\"],[0.2222222222222222,\"#7201a8\"],[0.3333333333333333,\"#9c179e\"],[0.4444444444444444,\"#bd3786\"],[0.5555555555555556,\"#d8576b\"],[0.6666666666666666,\"#ed7953\"],[0.7777777777777778,\"#fb9f3a\"],[0.8888888888888888,\"#fdca26\"],[1.0,\"#f0f921\"]]}],\"heatmap\":[{\"type\":\"heatmap\",\"colorbar\":{\"outlinewidth\":0,\"ticks\":\"\"},\"colorscale\":[[0.0,\"#0d0887\"],[0.1111111111111111,\"#46039f\"],[0.2222222222222222,\"#7201a8\"],[0.3333333333333333,\"#9c179e\"],[0.4444444444444444,\"#bd3786\"],[0.5555555555555556,\"#d8576b\"],[0.6666666666666666,\"#ed7953\"],[0.7777777777777778,\"#fb9f3a\"],[0.8888888888888888,\"#fdca26\"],[1.0,\"#f0f921\"]]}],\"heatmapgl\":[{\"type\":\"heatmapgl\",\"colorbar\":{\"outlinewidth\":0,\"ticks\":\"\"},\"colorscale\":[[0.0,\"#0d0887\"],[0.1111111111111111,\"#46039f\"],[0.2222222222222222,\"#7201a8\"],[0.3333333333333333,\"#9c179e\"],[0.4444444444444444,\"#bd3786\"],[0.5555555555555556,\"#d8576b\"],[0.6666666666666666,\"#ed7953\"],[0.7777777777777778,\"#fb9f3a\"],[0.8888888888888888,\"#fdca26\"],[1.0,\"#f0f921\"]]}],\"contourcarpet\":[{\"type\":\"contourcarpet\",\"colorbar\":{\"outlinewidth\":0,\"ticks\":\"\"}}],\"contour\":[{\"type\":\"contour\",\"colorbar\":{\"outlinewidth\":0,\"ticks\":\"\"},\"colorscale\":[[0.0,\"#0d0887\"],[0.1111111111111111,\"#46039f\"],[0.2222222222222222,\"#7201a8\"],[0.3333333333333333,\"#9c179e\"],[0.4444444444444444,\"#bd3786\"],[0.5555555555555556,\"#d8576b\"],[0.6666666666666666,\"#ed7953\"],[0.7777777777777778,\"#fb9f3a\"],[0.8888888888888888,\"#fdca26\"],[1.0,\"#f0f921\"]]}],\"surface\":[{\"type\":\"surface\",\"colorbar\":{\"outlinewidth\":0,\"ticks\":\"\"},\"colorscale\":[[0.0,\"#0d0887\"],[0.1111111111111111,\"#46039f\"],[0.2222222222222222,\"#7201a8\"],[0.3333333333333333,\"#9c179e\"],[0.4444444444444444,\"#bd3786\"],[0.5555555555555556,\"#d8576b\"],[0.6666666666666666,\"#ed7953\"],[0.7777777777777778,\"#fb9f3a\"],[0.8888888888888888,\"#fdca26\"],[1.0,\"#f0f921\"]]}],\"mesh3d\":[{\"type\":\"mesh3d\",\"colorbar\":{\"outlinewidth\":0,\"ticks\":\"\"}}],\"scatter\":[{\"fillpattern\":{\"fillmode\":\"overlay\",\"size\":10,\"solidity\":0.2},\"type\":\"scatter\"}],\"parcoords\":[{\"type\":\"parcoords\",\"line\":{\"colorbar\":{\"outlinewidth\":0,\"ticks\":\"\"}}}],\"scatterpolargl\":[{\"type\":\"scatterpolargl\",\"marker\":{\"colorbar\":{\"outlinewidth\":0,\"ticks\":\"\"}}}],\"bar\":[{\"error_x\":{\"color\":\"#2a3f5f\"},\"error_y\":{\"color\":\"#2a3f5f\"},\"marker\":{\"line\":{\"color\":\"#E5ECF6\",\"width\":0.5},\"pattern\":{\"fillmode\":\"overlay\",\"size\":10,\"solidity\":0.2}},\"type\":\"bar\"}],\"scattergeo\":[{\"type\":\"scattergeo\",\"marker\":{\"colorbar\":{\"outlinewidth\":0,\"ticks\":\"\"}}}],\"scatterpolar\":[{\"type\":\"scatterpolar\",\"marker\":{\"colorbar\":{\"outlinewidth\":0,\"ticks\":\"\"}}}],\"histogram\":[{\"marker\":{\"pattern\":{\"fillmode\":\"overlay\",\"size\":10,\"solidity\":0.2}},\"type\":\"histogram\"}],\"scattergl\":[{\"type\":\"scattergl\",\"marker\":{\"colorbar\":{\"outlinewidth\":0,\"ticks\":\"\"}}}],\"scatter3d\":[{\"type\":\"scatter3d\",\"line\":{\"colorbar\":{\"outlinewidth\":0,\"ticks\":\"\"}},\"marker\":{\"colorbar\":{\"outlinewidth\":0,\"ticks\":\"\"}}}],\"scattermapbox\":[{\"type\":\"scattermapbox\",\"marker\":{\"colorbar\":{\"outlinewidth\":0,\"ticks\":\"\"}}}],\"scatterternary\":[{\"type\":\"scatterternary\",\"marker\":{\"colorbar\":{\"outlinewidth\":0,\"ticks\":\"\"}}}],\"scattercarpet\":[{\"type\":\"scattercarpet\",\"marker\":{\"colorbar\":{\"outlinewidth\":0,\"ticks\":\"\"}}}],\"carpet\":[{\"aaxis\":{\"endlinecolor\":\"#2a3f5f\",\"gridcolor\":\"white\",\"linecolor\":\"white\",\"minorgridcolor\":\"white\",\"startlinecolor\":\"#2a3f5f\"},\"baxis\":{\"endlinecolor\":\"#2a3f5f\",\"gridcolor\":\"white\",\"linecolor\":\"white\",\"minorgridcolor\":\"white\",\"startlinecolor\":\"#2a3f5f\"},\"type\":\"carpet\"}],\"table\":[{\"cells\":{\"fill\":{\"color\":\"#EBF0F8\"},\"line\":{\"color\":\"white\"}},\"header\":{\"fill\":{\"color\":\"#C8D4E3\"},\"line\":{\"color\":\"white\"}},\"type\":\"table\"}],\"barpolar\":[{\"marker\":{\"line\":{\"color\":\"#E5ECF6\",\"width\":0.5},\"pattern\":{\"fillmode\":\"overlay\",\"size\":10,\"solidity\":0.2}},\"type\":\"barpolar\"}],\"pie\":[{\"automargin\":true,\"type\":\"pie\"}]},\"layout\":{\"autotypenumbers\":\"strict\",\"colorway\":[\"#636efa\",\"#EF553B\",\"#00cc96\",\"#ab63fa\",\"#FFA15A\",\"#19d3f3\",\"#FF6692\",\"#B6E880\",\"#FF97FF\",\"#FECB52\"],\"font\":{\"color\":\"#2a3f5f\"},\"hovermode\":\"closest\",\"hoverlabel\":{\"align\":\"left\"},\"paper_bgcolor\":\"white\",\"plot_bgcolor\":\"#E5ECF6\",\"polar\":{\"bgcolor\":\"#E5ECF6\",\"angularaxis\":{\"gridcolor\":\"white\",\"linecolor\":\"white\",\"ticks\":\"\"},\"radialaxis\":{\"gridcolor\":\"white\",\"linecolor\":\"white\",\"ticks\":\"\"}},\"ternary\":{\"bgcolor\":\"#E5ECF6\",\"aaxis\":{\"gridcolor\":\"white\",\"linecolor\":\"white\",\"ticks\":\"\"},\"baxis\":{\"gridcolor\":\"white\",\"linecolor\":\"white\",\"ticks\":\"\"},\"caxis\":{\"gridcolor\":\"white\",\"linecolor\":\"white\",\"ticks\":\"\"}},\"coloraxis\":{\"colorbar\":{\"outlinewidth\":0,\"ticks\":\"\"}},\"colorscale\":{\"sequential\":[[0.0,\"#0d0887\"],[0.1111111111111111,\"#46039f\"],[0.2222222222222222,\"#7201a8\"],[0.3333333333333333,\"#9c179e\"],[0.4444444444444444,\"#bd3786\"],[0.5555555555555556,\"#d8576b\"],[0.6666666666666666,\"#ed7953\"],[0.7777777777777778,\"#fb9f3a\"],[0.8888888888888888,\"#fdca26\"],[1.0,\"#f0f921\"]],\"sequentialminus\":[[0.0,\"#0d0887\"],[0.1111111111111111,\"#46039f\"],[0.2222222222222222,\"#7201a8\"],[0.3333333333333333,\"#9c179e\"],[0.4444444444444444,\"#bd3786\"],[0.5555555555555556,\"#d8576b\"],[0.6666666666666666,\"#ed7953\"],[0.7777777777777778,\"#fb9f3a\"],[0.8888888888888888,\"#fdca26\"],[1.0,\"#f0f921\"]],\"diverging\":[[0,\"#8e0152\"],[0.1,\"#c51b7d\"],[0.2,\"#de77ae\"],[0.3,\"#f1b6da\"],[0.4,\"#fde0ef\"],[0.5,\"#f7f7f7\"],[0.6,\"#e6f5d0\"],[0.7,\"#b8e186\"],[0.8,\"#7fbc41\"],[0.9,\"#4d9221\"],[1,\"#276419\"]]},\"xaxis\":{\"gridcolor\":\"white\",\"linecolor\":\"white\",\"ticks\":\"\",\"title\":{\"standoff\":15},\"zerolinecolor\":\"white\",\"automargin\":true,\"zerolinewidth\":2},\"yaxis\":{\"gridcolor\":\"white\",\"linecolor\":\"white\",\"ticks\":\"\",\"title\":{\"standoff\":15},\"zerolinecolor\":\"white\",\"automargin\":true,\"zerolinewidth\":2},\"scene\":{\"xaxis\":{\"backgroundcolor\":\"#E5ECF6\",\"gridcolor\":\"white\",\"linecolor\":\"white\",\"showbackground\":true,\"ticks\":\"\",\"zerolinecolor\":\"white\",\"gridwidth\":2},\"yaxis\":{\"backgroundcolor\":\"#E5ECF6\",\"gridcolor\":\"white\",\"linecolor\":\"white\",\"showbackground\":true,\"ticks\":\"\",\"zerolinecolor\":\"white\",\"gridwidth\":2},\"zaxis\":{\"backgroundcolor\":\"#E5ECF6\",\"gridcolor\":\"white\",\"linecolor\":\"white\",\"showbackground\":true,\"ticks\":\"\",\"zerolinecolor\":\"white\",\"gridwidth\":2}},\"shapedefaults\":{\"line\":{\"color\":\"#2a3f5f\"}},\"annotationdefaults\":{\"arrowcolor\":\"#2a3f5f\",\"arrowhead\":0,\"arrowwidth\":1},\"geo\":{\"bgcolor\":\"white\",\"landcolor\":\"#E5ECF6\",\"subunitcolor\":\"white\",\"showland\":true,\"showlakes\":true,\"lakecolor\":\"white\"},\"title\":{\"x\":0.05},\"mapbox\":{\"style\":\"light\"}}},\"xaxis\":{\"anchor\":\"y\",\"domain\":[0.0,1.0],\"title\":{\"text\":\"error\"}},\"yaxis\":{\"anchor\":\"x\",\"domain\":[0.0,1.0],\"title\":{\"text\":\"count\"}},\"legend\":{\"tracegroupgap\":0},\"margin\":{\"t\":60},\"barmode\":\"relative\",\"width\":800},                        {\"responsive\": true}                    ).then(function(){\n",
              "                            \n",
              "var gd = document.getElementById('2e0b78bf-594a-48d3-9560-054a7cb3778e');\n",
              "var x = new MutationObserver(function (mutations, observer) {{\n",
              "        var display = window.getComputedStyle(gd).display;\n",
              "        if (!display || display === 'none') {{\n",
              "            console.log([gd, 'removed!']);\n",
              "            Plotly.purge(gd);\n",
              "            observer.disconnect();\n",
              "        }}\n",
              "}});\n",
              "\n",
              "// Listen for the removal of the full notebook cells\n",
              "var notebookContainer = gd.closest('#notebook-container');\n",
              "if (notebookContainer) {{\n",
              "    x.observe(notebookContainer, {childList: true});\n",
              "}}\n",
              "\n",
              "// Listen for the clearing of the current output cell\n",
              "var outputEl = gd.closest('.output');\n",
              "if (outputEl) {{\n",
              "    x.observe(outputEl, {childList: true});\n",
              "}}\n",
              "\n",
              "                        })                };                            </script>        </div>\n",
              "</body>\n",
              "</html>"
            ]
          },
          "metadata": {}
        }
      ]
    },
    {
      "cell_type": "markdown",
      "source": [
        "Mean absolute error - Średni błąd bezwzględny"
      ],
      "metadata": {
        "id": "xMjaKWRiHh8g"
      }
    },
    {
      "cell_type": "code",
      "source": [
        "def mean_absolute_error(y_true, y_pred):\n",
        "  return abs(y_true - y_pred).sum() / len(y_true)\n",
        "\n",
        "mean_absolute_error(y_true, y_pred)"
      ],
      "metadata": {
        "colab": {
          "base_uri": "https://localhost:8080/"
        },
        "id": "DJE6w0IIHnSc",
        "outputId": "b7e73c40-112f-4c05-e9f2-2eaf5b6f3b58"
      },
      "execution_count": 8,
      "outputs": [
        {
          "output_type": "execute_result",
          "data": {
            "text/plain": [
              "7.960159394258549"
            ]
          },
          "metadata": {},
          "execution_count": 8
        }
      ]
    },
    {
      "cell_type": "code",
      "source": [
        "from sklearn.metrics import mean_absolute_error\n",
        "mean_absolute_error(y_true, y_pred)\n",
        "\n"
      ],
      "metadata": {
        "colab": {
          "base_uri": "https://localhost:8080/"
        },
        "id": "98S_0z8pH42E",
        "outputId": "d447fe99-4676-4aa4-c0a0-de9010e54ad6"
      },
      "execution_count": 9,
      "outputs": [
        {
          "output_type": "execute_result",
          "data": {
            "text/plain": [
              "7.960159394258549"
            ]
          },
          "metadata": {},
          "execution_count": 9
        }
      ]
    },
    {
      "cell_type": "markdown",
      "source": [
        "Mean squared error - MSE - Błąd średniokwadratowy"
      ],
      "metadata": {
        "id": "tcCSlU6HIIzc"
      }
    },
    {
      "cell_type": "code",
      "source": [
        "def mean_squared_error(y_true, y_pred):\n",
        "    return ((y_true - y_pred) ** 2).sum() / len(y_true)\n",
        "\n",
        "mean_squared_error(y_true, y_pred)"
      ],
      "metadata": {
        "colab": {
          "base_uri": "https://localhost:8080/"
        },
        "id": "_a4nxSZSIRO0",
        "outputId": "2c6bee62-6987-4aec-d930-fcaba27fc3b1"
      },
      "execution_count": 10,
      "outputs": [
        {
          "output_type": "execute_result",
          "data": {
            "text/plain": [
              "98.74738405907294"
            ]
          },
          "metadata": {},
          "execution_count": 10
        }
      ]
    },
    {
      "cell_type": "code",
      "source": [
        "from sklearn.metrics import mean_squared_error\n",
        "\n",
        "mean_squared_error(y_true, y_pred)"
      ],
      "metadata": {
        "colab": {
          "base_uri": "https://localhost:8080/"
        },
        "id": "eKVG_jJyIUwo",
        "outputId": "b5ff42bf-ba4a-49ec-fd48-318c35b4f36f"
      },
      "execution_count": 11,
      "outputs": [
        {
          "output_type": "execute_result",
          "data": {
            "text/plain": [
              "98.74738405907294"
            ]
          },
          "metadata": {},
          "execution_count": 11
        }
      ]
    },
    {
      "cell_type": "markdown",
      "source": [
        "Root mean squared error - RMSE - Pierwiastek błędu średniokwadratowego"
      ],
      "metadata": {
        "id": "vN7nTRtEIaKU"
      }
    },
    {
      "cell_type": "code",
      "source": [
        "\n",
        "def root_mean_squared_error(y_true, y_pred):\n",
        "    return np.sqrt(((y_true - y_pred) ** 2).sum() / len(y_true))\n",
        "\n",
        "root_mean_squared_error(y_true, y_pred)"
      ],
      "metadata": {
        "colab": {
          "base_uri": "https://localhost:8080/"
        },
        "id": "Y_OkefQ2IgTY",
        "outputId": "66a581e1-7805-4661-b8c8-5b82287508d0"
      },
      "execution_count": 12,
      "outputs": [
        {
          "output_type": "execute_result",
          "data": {
            "text/plain": [
              "9.9371718340317"
            ]
          },
          "metadata": {},
          "execution_count": 12
        }
      ]
    },
    {
      "cell_type": "code",
      "source": [
        "\n",
        "np.sqrt(mean_squared_error(y_true, y_pred))"
      ],
      "metadata": {
        "colab": {
          "base_uri": "https://localhost:8080/"
        },
        "id": "d2m_h4VLIiit",
        "outputId": "170cbecd-d137-4fed-924e-b0089ad67f55"
      },
      "execution_count": 13,
      "outputs": [
        {
          "output_type": "execute_result",
          "data": {
            "text/plain": [
              "9.9371718340317"
            ]
          },
          "metadata": {},
          "execution_count": 13
        }
      ]
    },
    {
      "cell_type": "markdown",
      "source": [
        "Max error - Błąd maksymalny"
      ],
      "metadata": {
        "id": "xStg0cvIIyCY"
      }
    },
    {
      "cell_type": "code",
      "source": [
        "def max_error(y_true, y_pred):\n",
        "  return abs(y_true - y_pred).max()"
      ],
      "metadata": {
        "id": "5QTGCPMjI2Sm"
      },
      "execution_count": 14,
      "outputs": []
    },
    {
      "cell_type": "code",
      "source": [
        "max_error(y_true, y_pred)"
      ],
      "metadata": {
        "colab": {
          "base_uri": "https://localhost:8080/"
        },
        "id": "5WmvU_wPJAS8",
        "outputId": "bac0ed61-2fff-4963-a780-c725324ed370"
      },
      "execution_count": 15,
      "outputs": [
        {
          "output_type": "execute_result",
          "data": {
            "text/plain": [
              "32.087223138058924"
            ]
          },
          "metadata": {},
          "execution_count": 15
        }
      ]
    },
    {
      "cell_type": "code",
      "source": [
        "from sklearn.metrics import max_error\n",
        "\n",
        "max_error(y_true, y_pred)"
      ],
      "metadata": {
        "colab": {
          "base_uri": "https://localhost:8080/"
        },
        "id": "WIcqViAGJEbf",
        "outputId": "8678e349-ff1d-46d7-fd1d-97bdde9b353f"
      },
      "execution_count": 16,
      "outputs": [
        {
          "output_type": "execute_result",
          "data": {
            "text/plain": [
              "32.087223138058924"
            ]
          },
          "metadata": {},
          "execution_count": 16
        }
      ]
    },
    {
      "cell_type": "markdown",
      "source": [
        "R2 score - współczynnik determinacji"
      ],
      "metadata": {
        "id": "bjkJTEH-JNxI"
      }
    },
    {
      "cell_type": "code",
      "source": [
        "from sklearn.metrics import r2_score\n",
        "\n",
        "r2_score(y_true, y_pred)"
      ],
      "metadata": {
        "colab": {
          "base_uri": "https://localhost:8080/"
        },
        "id": "YiLCneMTJNHk",
        "outputId": "5ee53f3c-9e26-4322-9351-fe68da05a5e9"
      },
      "execution_count": 17,
      "outputs": [
        {
          "output_type": "execute_result",
          "data": {
            "text/plain": [
              "0.7478366427236351"
            ]
          },
          "metadata": {},
          "execution_count": 17
        }
      ]
    },
    {
      "cell_type": "code",
      "source": [
        "def r2_score(y_true, y_pred):\n",
        "  numerator = ((y_true - y_pred) ** 2).sum()\n",
        "  denominator = ((y_true - y_true.mean()) ** 2).sum()\n",
        "  try:\n",
        "    r2 = 1 - numerator / denominator\n",
        "  except ZeroDivisionError:\n",
        "    print('Dzielenie przez zero')\n",
        "  return r2"
      ],
      "metadata": {
        "id": "XLodRYThJaST"
      },
      "execution_count": 18,
      "outputs": []
    },
    {
      "cell_type": "code",
      "source": [
        "r2_score(y_true, y_pred)"
      ],
      "metadata": {
        "colab": {
          "base_uri": "https://localhost:8080/"
        },
        "id": "eQm9XvXPJ7t7",
        "outputId": "a3153cf6-9736-4495-f5d4-675ca965d4a4"
      },
      "execution_count": 19,
      "outputs": [
        {
          "output_type": "execute_result",
          "data": {
            "text/plain": [
              "0.7478366427236351"
            ]
          },
          "metadata": {},
          "execution_count": 19
        }
      ]
    }
  ]
}